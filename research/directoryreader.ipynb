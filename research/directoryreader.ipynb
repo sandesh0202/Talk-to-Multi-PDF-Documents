{
 "cells": [
  {
   "cell_type": "code",
   "execution_count": 1,
   "metadata": {},
   "outputs": [],
   "source": [
    "from langchain_community.document_loaders import DirectoryLoader , PyPDFLoader\n",
    "from langchain_openai import ChatOpenAI\n",
    "from langchain.prompts import PromptTemplate\n",
    "from langchain.schema import Document\n",
    "from langchain.text_splitter import RecursiveCharacterTextSplitter\n",
    "from langchain_openai import OpenAIEmbeddings\n",
    "from langchain_community.vectorstores import FAISS\n",
    "from langchain.chains import RetrievalQAWithSourcesChain\n",
    "import os"
   ]
  },
  {
   "cell_type": "code",
   "execution_count": 2,
   "metadata": {},
   "outputs": [],
   "source": [
    "os.environ['OPENAI_API_KEY'] = os.getenv(\"OPENAI_API_KEY\")"
   ]
  },
  {
   "cell_type": "code",
   "execution_count": 3,
   "metadata": {},
   "outputs": [],
   "source": [
    "FAISS_PATH = \"/faiss\""
   ]
  },
  {
   "cell_type": "code",
   "execution_count": 4,
   "metadata": {},
   "outputs": [],
   "source": [
    "path = os.getcwd()\n",
    "UPLOAD_FOLDER = os.path.join(path, 'uploads')"
   ]
  },
  {
   "cell_type": "code",
   "execution_count": 5,
   "metadata": {},
   "outputs": [
    {
     "name": "stdout",
     "output_type": "stream",
     "text": [
      "c:\\LangchainProjects\\Multi Document Chatbot\\research\\uploads\n"
     ]
    }
   ],
   "source": [
    "print(UPLOAD_FOLDER)"
   ]
  },
  {
   "cell_type": "code",
   "execution_count": 6,
   "metadata": {},
   "outputs": [],
   "source": [
    "os.chdir('..')"
   ]
  },
  {
   "cell_type": "code",
   "execution_count": 7,
   "metadata": {},
   "outputs": [],
   "source": [
    "def get_document_loader():\n",
    "    loader = DirectoryLoader('static', glob=\"**/*.pdf\", show_progress=True, loader_cls=PyPDFLoader)\n",
    "    docs = loader.load()\n",
    "    return docs"
   ]
  },
  {
   "cell_type": "code",
   "execution_count": 8,
   "metadata": {},
   "outputs": [],
   "source": [
    "#docs = get_document_loader()\n",
    "\n",
    "#for i in docs:\n",
    "   # print(i.metadata)"
   ]
  },
  {
   "cell_type": "code",
   "execution_count": 9,
   "metadata": {},
   "outputs": [],
   "source": [
    "def get_text_chunks(documents: list[Document]):\n",
    "    text_splitter = RecursiveCharacterTextSplitter(\n",
    "        \n",
    "        chunk_size=1000,\n",
    "        chunk_overlap=200,\n",
    "        length_function=len\n",
    "        \n",
    "    )\n",
    "    chunks = text_splitter.split_documents(documents)\n",
    "    return chunks"
   ]
  },
  {
   "cell_type": "code",
   "execution_count": 10,
   "metadata": {},
   "outputs": [],
   "source": [
    "def get_embeddings():\n",
    "    documents = get_document_loader()\n",
    "    chunks = get_text_chunks(documents)\n",
    "    db = FAISS.from_documents(\n",
    "        chunks, OpenAIEmbeddings()\n",
    "    )\n",
    "    \n",
    "    return db"
   ]
  },
  {
   "cell_type": "code",
   "execution_count": null,
   "metadata": {},
   "outputs": [],
   "source": []
  },
  {
   "cell_type": "code",
   "execution_count": 11,
   "metadata": {},
   "outputs": [],
   "source": [
    "def get_retriever():\n",
    "    db = get_embeddings()\n",
    "    retriever = db.as_retriever()\n",
    "    return retriever"
   ]
  },
  {
   "cell_type": "code",
   "execution_count": 12,
   "metadata": {},
   "outputs": [
    {
     "name": "stderr",
     "output_type": "stream",
     "text": [
      "100%|██████████| 2/2 [00:03<00:00,  1.84s/it]\n"
     ]
    },
    {
     "data": {
      "text/plain": [
       "{'source': 'static\\\\CELEX_31994L0062_EN_TXT-packaging_and_packaging_waste.pdf',\n",
       " 'page': 7}"
      ]
     },
     "execution_count": 12,
     "metadata": {},
     "output_type": "execute_result"
    }
   ],
   "source": [
    "retriever = get_retriever()\n",
    "llm = ChatOpenAI(model=\"gpt-3.5-turbo\")\n",
    "\n",
    "retriever.get_relevant_documents(\"Explain commision of european Communities\")[0].metadata"
   ]
  },
  {
   "cell_type": "code",
   "execution_count": 13,
   "metadata": {},
   "outputs": [
    {
     "name": "stdout",
     "output_type": "stream",
     "text": [
      "<class 'str'>\n",
      "7\n"
     ]
    }
   ],
   "source": [
    "relevant_document = retriever.get_relevant_documents(\"Explain commision of european Communities\")[0].metadata\n",
    "print(type(relevant_document['source']))\n",
    "print(relevant_document['page'])"
   ]
  },
  {
   "cell_type": "code",
   "execution_count": 14,
   "metadata": {},
   "outputs": [],
   "source": [
    "from langchain.chains import RetrievalQA\n",
    "\n",
    "chain = RetrievalQA.from_chain_type(llm = llm,\n",
    "                                    chain_type=\"stuff\",\n",
    "                                    retriever = retriever,\n",
    "                                    return_source_documents = True\n",
    "                                    )\n"
   ]
  },
  {
   "cell_type": "code",
   "execution_count": 15,
   "metadata": {},
   "outputs": [
    {
     "name": "stderr",
     "output_type": "stream",
     "text": [
      "c:\\Users\\Sandesh Pargaonkar\\Anaconda3\\envs\\openai\\Lib\\site-packages\\langchain_core\\_api\\deprecation.py:117: LangChainDeprecationWarning: The function `__call__` was deprecated in LangChain 0.1.0 and will be removed in 0.2.0. Use invoke instead.\n",
      "  warn_deprecated(\n"
     ]
    },
    {
     "name": "stdout",
     "output_type": "stream",
     "text": [
      "{'query': 'explain CHROMATOGRAPHIC conditions', 'result': 'The chromatographic conditions outlined in the provided context detail the specific parameters and settings used for conducting gas chromatography. These conditions include information on the pre-column, column, temperature settings, gas supplies, detector specifications, and calculations. \\n\\nFor example:\\n- The pre-column tubing is made of stainless steel, with a length of 300mm and a diameter of 3 or 6mm.\\n- The column uses a stationary phase made of Hallcomid M18 on chromosorb, with specific dimensions and packing material indicated.\\n- Temperature conditions for the injector, detector, and column are specified.\\n- Gas supplies such as carrier gas (nitrogen) and auxiliary gas (hydrogen) pressure, flow rates, and types are provided.\\n- The recommended termination of chromatography by adjusting temperature over time to eliminate interfering substances is mentioned.\\n- Calculation details for coefficient of proportionality and other factors are outlined.\\n\\nOverall, these chromatographic conditions serve as a guide for conducting gas chromatography experiments effectively and obtaining accurate results.', 'source_documents': [Document(page_content=\"20%didecylphthalate/chromosorb ,WAW80to100mesh.\\n5.2.7.3 .Detector\\nFlameionization .Asuitablesensitivity settingfortheelectrometer oftheflame\\nionization detectoris8x10-10A.\\n5.2.7.4.Gassupplies\\nCarriergas:nitrogen .\\npressure :2,2bar,\\nflow:35ml/min.\\nAuxiliarygas:hydrogen .\\npressure :1,8bar,\\nflow:15ml/min.\\nDetectorsupplies :asspecifiedbythemakersoftheapparatus .\\n5.2.7.5.Temperature conditions\\nInjector :200°C\\nDetector :200°C\\nColumn :90°C.\\n5.2.7.6.Recorder chartspeed\\n5mm/min.\\n5.2.7.7.Quantity injected\\n3μlCarryoutfiveinjections .\\n5.2.7.8.Theconditions ofchromatography aregivenasaguide.Theypermitthe\\nachievement ofaresolution 'R'equalto,orbetterthan,1,5,where:\\nd'(r2-r,)R=2W,+W2\\nlet:\\nriandn=retentiontimes(inminutes),\\nWiandW2=peakwidthsathalfheight(inmillimetres ),\\nd' =thechartspeed(inmillimetres perminute).\\nItisrecommended thatchromatography beterminated byregulating thetempera\\xad\\nturefrom90to150°Catarateof10°Cperminutesoastoeliminatesubstances\\nliabletointerferewithsubsequent measurements .\", metadata={'source': 'static\\\\CELEX_31983L0514_EN_TXT-methods_of_analysis.pdf', 'page': 19}), Document(page_content=\"shouldberinsedseveraltimeswithacetone(4.5)(usingasrequiredahypodermic\\nsyringe)andthendriedthoroughly withnitrogen(4.6).\\n6.2.4.Foreachanalysis,takemeasurements usingtwodifferenttransferbottlesandfive\\nmeasurements perbottle.\\n7. CHROMATOGRAPHIC CONDITIONS\\n7.1. Precolumn\\nTubing :stainlesssteel.\\nLength :300mm.\\nDiameter :3or6mm.\\nPacking :samematerialasusedfortheanalytical columnpacking.\\n7.2. Column\\nThestationary phaseismadeofHallcomid M18onchromosorb .Thecolumn\\nmustyieldaresolution 'R'equalto,orbetterthan,1,5,where:\\nd'(r2-r.)R=2W1+W2\\nlet:\\nnandxi=retentiontimes(inminutes),\\nWiandW2=peakwidthsathalfheight(inmillimetres ),\\nd' =thechartspeed(inmillimetres perminute).\\n7.3. Asexamplesthefollowingcolumnsyieldtheresultssought :\\nColumn\\nMaterial :\\nLength :\\nDiameter :\\nSupport :\\nchromosorb :\\nsieveanalysis :\\nStationary phase:/\\nStainlesssteeltubing\\n350cm\\n3mm\\nWAW\\n100to120mesh\\nHallcomid M18,10%II\\nStainlesssteeltubing\\n400cm\\n6mm\\nWAW-DMCS-HP\\n60to80mesh\\nHallcomid M18,20%\", metadata={'source': 'static\\\\CELEX_31983L0514_EN_TXT-methods_of_analysis.pdf', 'page': 3}), Document(page_content='Itisrecommended thatchromatography beterminated byregulating thetempera\\xad\\nturefrom90to150°Catarateof10°Cperminutesoastoeliminatesubstances\\nliabletointerferewithsubsequent measurements .\\n5.2.8.Calculations\\n5.2.8.1.Coefficient ofproportionality formercaptoacetic acid\\nThisiscalculated withrespecttomethyloctanoate onthebasisofastandard\\nmixture .', metadata={'source': 'static\\\\CELEX_31983L0514_EN_TXT-methods_of_analysis.pdf', 'page': 19}), Document(page_content=\"WiandW2=peakwidthsathalfheight(inmillimetres ),\\nd' =thechartspeed(inmillimetres perminute).\\nThefollowing gaschromatographic conditions havebeenfoundsuitable :\\nColumn :stainlesssteel.\\nLength :1,7m.\\nDiameter :3mm.\\nSupport :\\nchromosorb :WAW\\nsieveanalysis :80to100mesh.\\nStationary phase:10%OV17.\\nTemperatures :\\ncolumn :280°C,\\ninjector :280°C,\\ndetector :280°C.\\nCarriergas:oxygen-free nitrogen .\\nPressure :2,3bar.\\nRow:30ml/min.\\n(')Thepersistence ofthisyellowcoloration indicatesanexcessofdiazomethane ,whichis\\nnecessary toensureacompletemethylation ofthesample.\", metadata={'source': 'static\\\\CELEX_31983L0514_EN_TXT-methods_of_analysis.pdf', 'page': 24})]}\n",
      "Sources:\n",
      "{'source': 'static\\\\CELEX_31983L0514_EN_TXT-methods_of_analysis.pdf', 'page': 19}\n",
      "page [19]\n"
     ]
    },
    {
     "data": {
      "text/plain": [
       "('The chromatographic conditions outlined in the provided context detail the specific parameters and settings used for conducting gas chromatography. These conditions include information on the pre-column, column, temperature settings, gas supplies, detector specifications, and calculations. \\n\\nFor example:\\n- The pre-column tubing is made of stainless steel, with a length of 300mm and a diameter of 3 or 6mm.\\n- The column uses a stationary phase made of Hallcomid M18 on chromosorb, with specific dimensions and packing material indicated.\\n- Temperature conditions for the injector, detector, and column are specified.\\n- Gas supplies such as carrier gas (nitrogen) and auxiliary gas (hydrogen) pressure, flow rates, and types are provided.\\n- The recommended termination of chromatography by adjusting temperature over time to eliminate interfering substances is mentioned.\\n- Calculation details for coefficient of proportionality and other factors are outlined.\\n\\nOverall, these chromatographic conditions serve as a guide for conducting gas chromatography experiments effectively and obtaining accurate results.',\n",
       " 'CELEX_31983L0514_EN_TXT-methods_of_analysis.pdf',\n",
       " 19)"
      ]
     },
     "execution_count": 15,
     "metadata": {},
     "output_type": "execute_result"
    }
   ],
   "source": [
    "def process_llm_response(chain, question):\n",
    "\n",
    "    llm_response = chain(question)\n",
    "    print(llm_response)\n",
    "    list_of_pages = []\n",
    "    print('Sources:')\n",
    "    for i, source in enumerate(llm_response['source_documents']):\n",
    "        result = llm_response['result']\n",
    "        print(source.metadata)\n",
    "        source_document = source.metadata['source']\n",
    "        page_number = source.metadata['page']\n",
    "        list_of_pages.append(page_number)\n",
    "        print(f\"page {list_of_pages}\")\n",
    "        source_document = source_document[7:]\n",
    "        \n",
    "        return result, source_document, page_number\n",
    "\n",
    "question = \"explain CHROMATOGRAPHIC conditions\"\n",
    "process_llm_response(chain=chain, question=question)"
   ]
  },
  {
   "cell_type": "code",
   "execution_count": 26,
   "metadata": {},
   "outputs": [],
   "source": [
    "llm_response = chain(\"explain IDENTIFICATION AND DETERMINATION OF NITROMETHANE\")\n",
    "pages_list = []\n",
    "for i in range(len(llm_response['source_documents'])):\n",
    "    pages_list.append(llm_response['source_documents'][i].metadata['page'])"
   ]
  },
  {
   "cell_type": "code",
   "execution_count": 28,
   "metadata": {},
   "outputs": [
    {
     "name": "stdout",
     "output_type": "stream",
     "text": [
      "[11, 0, 11, 13]\n"
     ]
    }
   ],
   "source": [
    "print(pages_list)"
   ]
  },
  {
   "cell_type": "code",
   "execution_count": 25,
   "metadata": {},
   "outputs": [
    {
     "name": "stdout",
     "output_type": "stream",
     "text": [
      "{'query': 'explain IDENTIFICATION AND DETERMINATION OF NITROMETHANE', 'result': \"The identification and determination of nitromethane involve a method that is suitable for products like cosmetic items that are packed in aerosol dispensers. The nitromethane content is expressed as a percentage by mass in the total aerosol dispenser content. The principle involves identifying nitromethane through a color reaction and then determining it gas chromatographically after the addition of an internal standard. The method uses specific reagents and procedures, like sodium hydroxide solution and Folin's reagent, to detect nitromethane. The calculations involve response factors and concentration measurements using gas chromatography with specific temperature settings and gas supplies.\", 'source_documents': [Document(page_content=\"expressed inpercentage bymassofnitromethane ,inthetotalaerosoldispenser\\ncontent .\\n3. PRINCIPLE\\nThenitromethane isidentified bycolourreaction.Nitromethane isdetermined\\ngaschromatographically afteradditionofaninternalstandard .\\n4. IDENTIFICATION\\n4.1. Reagents\\nAllreagentsshouldbeofanalyticalpurity.\\n4.1.1.Sodiumhydroxide ,0,5Msolution .\\n4.1.2.Folin'sreagent\\nDissolve0,1gofsodium3,4-dihydro-3,4-dioxonaphthalene-l-sulphonate inwater\\nanddiluteto100ml.\\n4.2. Procedure\\nTo1mlofsampleadd10mlof4.1.1and1mlof4.1.2.Avioletcoloration\\nindicatesthepresenceofnitromethane .\\n5. DETERMINATION\\n5.1. Reagents\\nAllreagentsmustbeofanalytical quality.\\n(!)NormISO5725.\", metadata={'source': 'static\\\\CELEX_31983L0514_EN_TXT-methods_of_analysis.pdf', 'page': 11}), Document(page_content=\"linium)sulphate ,thedetermination ofammonia ,\\ntheidentification anddetermination ofnitrome\\xad\\nthane,theidentification anddetermination ofmer\\xad\\ncaptoacetic acidinhair-waving ,hair-straightening\\nanddepilatory products ,theidentification and\\ndetermination ofhexachlorophene (INN),theHASADOPTED THISDIRECTIVE :\\nArticle1\\nMemberStatesshalltakeallnecessary stepsto\\nensurethatduringofficialtestingofcosmetic\\nproducts :\\n—determination ofdichloromethane and1,1,1\\xad\\ntrichloroethane ,\\n—identification anddetermination ofquinolin\\xad\\n8-olandbis(8-hydroxyquinolinium )sulphate,\\n—determination ofammonia ,\\n—identification anddetermination ofnitro\\xad\\nmethane ,\\n—identification anddetermination ofmercapto\\xad\\naceticacidinhair-waving ,hair-straightening\\nanddepilatory products ,\\n—identification anddetermination ofhexachloro\\xad\\nphene(INN),\\n—determination oftosylchloramide sodium\\n(INN),\\n—determination oftotalfluorineindentalcreams,\\n—identification anddetermination oforgano\\xad\\nmercurycompounds ,(')OJNoL262,27.9.1976,p.169.\", metadata={'source': 'static\\\\CELEX_31983L0514_EN_TXT-methods_of_analysis.pdf', 'page': 0}), Document(page_content='NoL291/20 OfficialJournaloftheEuropean Communities 24.10.83\\n7.2. Calculation inthecaseofdirectpotentiometric titration\\nLet:\\nV2=thevolume(inmillilitres)ofthesulphuricacidsolution(4.4)used,\\nM2=itsactualmolarity(4.4),\\nm=themass(inmilligrams )ofthetestportion(6.1)taken,\\nthen:\\nammonia%(m/m)_/2xM2X17X1004250V,M\\xad\\n0,4m m\\n8. REPEATABILITY (•)\\nForacontentofabout6%ammonia ,thedifference betweentheresultsoftwo\\ndeterminations carriedoutinparallelonthesamesampleshouldnotexceedan\\nabsolutevalueof0,6%.\\nIDENTIFICATION ANDDETERMINATION OFNITROMETHANE\\n1. SCOPEANDFIELDOFAPPLICATION\\nThismethodissuitablefortheidentification anddetermination ofnitromethane\\natuptoabout0,3%incosmeticproductspackedinaerosoldispensers .\\n2. DEFINITION\\nThenitromethane contentofthesampledetermined according tothismethodis\\nexpressed inpercentage bymassofnitromethane ,inthetotalaerosoldispenser\\ncontent .\\n3. PRINCIPLE\\nThenitromethane isidentified bycolourreaction.Nitromethane isdetermined', metadata={'source': 'static\\\\CELEX_31983L0514_EN_TXT-methods_of_analysis.pdf', 'page': 11}), Document(page_content=\"Injectionport:150°C,\\nDetector :150°C,\\nColumn :between50and80°Cdepending uponindividual columnsand\\napparatus .\\n5.3.3.4.Suitablegassupplies\\nCarriergas:nitrogen .\\nPressure :2,1bar.\\nFlow:40ml/min.\\nDetectorsupplies :asspecifiedbythemakersofthedetector .\\n6. CALCULATIONS\\n6.1. Responsefactorofnitromethane ,calculated withreferencetotheinternalstandard\\nused\\nIf4n'represents nitromethane :\\nlet:\\nkn=itsresponsefactor,\\nm'n=itsmass(ingrams)inthemixture,\\nS'n=itspeakarea.\\nIf'c'represents theinternalstandard,chloroform or2,4-dimathylheptane :\\nlet:\\nm'c=itsmass(ingrams)inthemixture,\\nS'c=itspeakarea,\\nthen:\\nk„=mXs;\\nm'cSJ,\\n(knisafunctionoftheapparatus ).\\n6.2. Concentration ofnitromethane inthesample\\nIf'n'represents nitromethane :\", metadata={'source': 'static\\\\CELEX_31983L0514_EN_TXT-methods_of_analysis.pdf', 'page': 13})]}\n",
      "Sources:\n",
      "{'source': 'static\\\\CELEX_31983L0514_EN_TXT-methods_of_analysis.pdf', 'page': 11}\n",
      "page [11]\n"
     ]
    }
   ],
   "source": [
    "question = \"explain IDENTIFICATION AND DETERMINATION OF NITROMETHANE\"\n",
    "result, source_document, page_number = process_llm_response(chain=chain, question=question)"
   ]
  },
  {
   "cell_type": "code",
   "execution_count": 19,
   "metadata": {},
   "outputs": [
    {
     "name": "stdout",
     "output_type": "stream",
     "text": [
      "The chromatographic conditions described in the provided context include details about the pre-column, column, and associated parameters. \n",
      "\n",
      "1. **Precolumn:**\n",
      "   - Tubing: stainless steel\n",
      "   - Length: 300mm\n",
      "   - Diameter: 3 or 6mm\n",
      "   - Packing: Same material as used for the analytical column packing\n",
      "\n",
      "2. **Column:**\n",
      "   - The stationary phase is made of Hallcomid M18 on chromosorb.\n",
      "   - The column must yield a resolution 'R' equal to or better than 1.5.\n",
      "   - Examples of columns that meet these criteria are provided, including details such as material, length, diameter, support, sieve analysis, and stationary phase.\n",
      "   - It is recommended to terminate chromatography by regulating the temperature from 90 to 150°C at a rate of 10°C per minute to eliminate substances that may interfere with subsequent measurements.\n",
      "\n",
      "3. **Gas Chromatographic Conditions:**\n",
      "   - Column: stainless steel\n",
      "   - Length: 1.7m\n",
      "   - Diameter: 3mm\n",
      "   - Support: chromosorb - WAW, sieve analysis: 80 to 100 mesh\n",
      "   - Stationary phase: 10% OV17\n",
      "   - Temperatures: column, injector, and detector set to 280°C\n",
      "   - Carrier gas: oxygen-free nitrogen\n",
      "   - Pressure: 2.3 bar\n",
      "   - Flow rate: 30 ml/min\n",
      "\n",
      "These conditions are crucial for ensuring the proper separation and analysis of compounds in the chromatographic process.\n"
     ]
    }
   ],
   "source": [
    "print(result)"
   ]
  },
  {
   "cell_type": "code",
   "execution_count": 20,
   "metadata": {},
   "outputs": [
    {
     "data": {
      "text/plain": [
       "'CELEX_31983L0514_EN_TXT-methods_of_analysis.pdf'"
      ]
     },
     "execution_count": 20,
     "metadata": {},
     "output_type": "execute_result"
    }
   ],
   "source": [
    "source_document"
   ]
  },
  {
   "cell_type": "code",
   "execution_count": 2,
   "metadata": {},
   "outputs": [
    {
     "name": "stdout",
     "output_type": "stream",
     "text": [
      "{0: 13, 1: 1, 2: 4, 3: 5, 4: 9, 5: 3}\n"
     ]
    }
   ],
   "source": [
    "dic = dict()\n",
    "for i, value in enumerate([13, 1, 4, 5, 9, 3]):\n",
    "    dic[i] = value\n",
    "print(dic)"
   ]
  },
  {
   "cell_type": "code",
   "execution_count": 10,
   "metadata": {},
   "outputs": [
    {
     "name": "stdout",
     "output_type": "stream",
     "text": [
      "[4, 5]\n",
      "[5, 4]\n"
     ]
    }
   ],
   "source": [
    "def give_me_indexes():\n",
    "    \n",
    "    "
   ]
  }
 ],
 "metadata": {
  "kernelspec": {
   "display_name": "openai",
   "language": "python",
   "name": "python3"
  },
  "language_info": {
   "codemirror_mode": {
    "name": "ipython",
    "version": 3
   },
   "file_extension": ".py",
   "mimetype": "text/x-python",
   "name": "python",
   "nbconvert_exporter": "python",
   "pygments_lexer": "ipython3",
   "version": "3.12.2"
  }
 },
 "nbformat": 4,
 "nbformat_minor": 2
}
